{
 "cells": [
  {
   "cell_type": "code",
   "execution_count": 2,
   "metadata": {},
   "outputs": [],
   "source": [
    "# Tutorial 101_FileIO.py\n",
    "\n",
    "import sys, os\n",
    "# Add the igl library to the modules search path\n",
    "sys.path.insert(0, os.getcwd() + \"/../\")\n",
    "import igl\n",
    "\n",
    "debug = False\n",
    "\n",
    "# Load a mesh in OFF format\n",
    "v, f, _ = igl.readOFF(igl.tutorial_path + \"cube.off\")#, read_normals=False)\n",
    "\n",
    "# Print the vertices and faces matrices \n",
    "if debug:\n",
    "    print(\"Vertices: \\n\", v, sep='')\n",
    "    print(\"Faces: \\n\", f, sep='')\n",
    "\n",
    "# Save the mesh in OBJ format\n",
    "ret = igl.writeOBJ(igl.tutorial_path + \"cube.obj\", v, f)\n",
    "if debug:\n",
    "    print(ret)"
   ]
  },
  {
   "cell_type": "code",
   "execution_count": 3,
   "metadata": {},
   "outputs": [
    {
     "data": {
      "application/vnd.jupyter.widget-view+json": {
       "model_id": "b815062398564bcc879ab50d557e80e6",
       "version_major": 2,
       "version_minor": 0
      },
      "text/plain": [
       "Renderer(camera=PerspectiveCamera(children=(DirectionalLight(color='white', intensity=0.6, position=(0.0, 0.0,…"
      ]
     },
     "metadata": {},
     "output_type": "display_data"
    }
   ],
   "source": [
    "# Tutorial 102_DrawMesh.py\n",
    "\n",
    "import sys, os\n",
    "# Add the igl library to the modules search path\n",
    "sys.path.insert(0, os.getcwd() + \"/../\")\n",
    "import igl\n",
    "\n",
    "# Load a mesh in OFF format\n",
    "v, f, _ = igl.readOFF(igl.tutorial_path + \"bunny.off\")#, read_normals=False)\n",
    "\n",
    "# Plot the mesh\n",
    "viewer = igl.Viewer()\n",
    "viewer.set_mesh(v, f)\n",
    "viewer.launch()"
   ]
  },
  {
   "cell_type": "code",
   "execution_count": 6,
   "metadata": {},
   "outputs": [
    {
     "data": {
      "application/vnd.jupyter.widget-view+json": {
       "model_id": "5c72ee01d60248888032e94bc8fd16f3",
       "version_major": 2,
       "version_minor": 0
      },
      "text/plain": [
       "Renderer(camera=PerspectiveCamera(children=(DirectionalLight(color='white', intensity=0.6, position=(0.0, 0.0,…"
      ]
     },
     "metadata": {},
     "output_type": "display_data"
    },
    {
     "data": {
      "application/vnd.jupyter.widget-view+json": {
       "model_id": "f31dcc2511434909b38a77461700a3b3",
       "version_major": 2,
       "version_minor": 0
      },
      "text/plain": [
       "Dropdown(description='Select Mesh', options={'Bump Mesh': 1, 'Fertility Mesh': 2}, value=1)"
      ]
     },
     "metadata": {},
     "output_type": "display_data"
    }
   ],
   "source": [
    "# Tutorial 103_Events.py\n",
    "\n",
    "import sys, os\n",
    "import ipywidgets as widgets\n",
    "# Add the igl library to the modules search path\n",
    "sys.path.insert(0, os.getcwd() + \"/../\")\n",
    "import igl\n",
    "\n",
    "def select(change):\n",
    "    if change[\"new\"] == 1:\n",
    "        #viewer.data().clear()\n",
    "        viewer.set_mesh(v1, f1)\n",
    "        #viewer.core.align_camera_center(V1,F1)\n",
    "    if change[\"new\"] == 2:\n",
    "        viewer.set_mesh(v2, f2)\n",
    "\n",
    "#  Load two meshes\n",
    "v1, f1, _ = igl.readOFF(igl.tutorial_path + \"bumpy.off\")#, read_normals=False)\n",
    "v2, f2, _ = igl.readOFF(igl.tutorial_path + \"fertility.off\")#,read_normals=False)\n",
    "\n",
    "viewer = igl.Viewer()\n",
    "\n",
    "# Create a widget and assign callback to switch between the two loaded meshes\n",
    "viewer.add_widget(widgets.Dropdown(\n",
    "    options={'Bump Mesh': 1, 'Fertility Mesh': 2},\n",
    "    value=1,\n",
    "    description='Select Mesh',\n",
    "), select)\n",
    "\n",
    "viewer.set_mesh(v1, f1)\n",
    "viewer.launch()"
   ]
  },
  {
   "cell_type": "code",
   "execution_count": 12,
   "metadata": {},
   "outputs": [
    {
     "data": {
      "application/vnd.jupyter.widget-view+json": {
       "model_id": "7b515b0ba3bd48678751073a13e79770",
       "version_major": 2,
       "version_minor": 0
      },
      "text/plain": [
       "Renderer(camera=PerspectiveCamera(children=(DirectionalLight(color='white', intensity=0.6, position=(0.0, 0.0,…"
      ]
     },
     "metadata": {},
     "output_type": "display_data"
    }
   ],
   "source": [
    "# Tutorial 104_Colors.py\n",
    "\n",
    "import sys, os\n",
    "import ipywidgets as widgets\n",
    "# Add the igl library to the modules search path\n",
    "sys.path.insert(0, os.getcwd() + \"/../\")\n",
    "import igl\n",
    "import matplotlib.pyplot as plt\n",
    "import numpy as np\n",
    "\n",
    "# Load a mesh in OFF format\n",
    "v, f, _ = igl.readOFF(igl.tutorial_path + \"screwdriver.off\")\n",
    "\n",
    "# Use the z coordinate as a scalar field over the surface\n",
    "def get_colors(inp, colormap, vmin=None, vmax=None):\n",
    "    norm = plt.Normalize(vmin, vmax)\n",
    "    return colormap(norm(inp))\n",
    "\n",
    "# Compute per-vertex colors\n",
    "z = v[:, 2]\n",
    "#c = get_colors(z, plt.cm.jet, vmin=np.min(z), vmax=np.max(z))\n",
    "c = igl.jet(z, True)\n",
    "\n",
    "# Plot the mesh\n",
    "viewer = Vieweri()\n",
    "viewer.set_mesh(v, f, c)\n",
    "\n",
    "# Add per-vertex colors\n",
    "# viewer.data().set_colors(C)\n",
    "\n",
    "# Launch the viewer\n",
    "viewer.launch()"
   ]
  },
  {
   "cell_type": "code",
   "execution_count": null,
   "metadata": {},
   "outputs": [],
   "source": []
  },
  {
   "cell_type": "code",
   "execution_count": 10,
   "metadata": {},
   "outputs": [],
   "source": [
    "from pythreejs import *\n",
    "from IPython.display import display\n",
    "\n",
    "class Vieweri():\n",
    "    def __init__(self):\n",
    "        #print(\"Viewer initialization\")\n",
    "        self.data = {}\n",
    "        self.cam = PerspectiveCamera(position=[0, 0, 1], lookAt=[0, 0, 0],fov=30,\n",
    "                        children=[DirectionalLight(color='white', position=[0, 0, 1], intensity=0.6)])\n",
    "        self.renderer = Renderer(camera=self.cam, scene = Scene(), controls=[OrbitControls(controlling=self.cam)], \n",
    "                    width=600, height=600, antialias=False)\n",
    "        self.widgets = []\n",
    "\n",
    "    def set_mesh(self, v, f, c=None):\n",
    "        v = v.astype(\"float32\", copy=False)\n",
    "        f = f.astype(\"uint16\", copy=False).ravel()\n",
    "        \n",
    "        if type(c) == type(None):\n",
    "            c = np.ones_like(v)\n",
    "            c[:, 1] = 0.874\n",
    "            c[:, 2] = 0.0\n",
    "            geometry = BufferGeometry(attributes=dict(\n",
    "                position=BufferAttribute(v, normalized=False),\n",
    "                index=BufferAttribute(f, normalized=False),\n",
    "                color=BufferAttribute(c)\n",
    "            ))\n",
    "        else:\n",
    "            c = c.astype(\"float32\", copy=False)\n",
    "            c = c[:, :3]\n",
    "            geometry = BufferGeometry(attributes=dict(\n",
    "                position=BufferAttribute(v, normalized=False),\n",
    "                index=BufferAttribute(f, normalized=False),\n",
    "                color=BufferAttribute(c),\n",
    "            ))\n",
    "        geometry.exec_three_obj_method('computeVertexNormals')\n",
    "        self.mesh = Mesh(geometry=geometry, material=[MeshStandardMaterial(vertexColors='VertexColors', reflectivity=1.0, \n",
    "                                                            #side='FrontSide', \n",
    "                                                            roughness=0.5, metalness=0.25, flatShading=False,\n",
    "                                                            polygonOffset=True, polygonOffsetFactor= 1,\n",
    "                                                            polygonOffsetUnits=1)])\n",
    "#MeshLambertMaterial(vertexColors='VertexColors')\n",
    "        geon = WireframeGeometry(self.mesh.geometry) # WireframeGeometry\n",
    "        mat = LineBasicMaterial(color=\"black\", linewidth=0.6)\n",
    "        wireframe = LineSegments( geon, mat )\n",
    "        self.mesh.add(wireframe)\n",
    "\n",
    "        self.scene = Scene(children=[self.mesh, self.cam, AmbientLight(intensity=0.5)], background=\"#4c4c80\")\n",
    "        self.renderer.scene = self.scene\n",
    "        \n",
    "    def add_widget(self, widget, callback):\n",
    "        self.widgets.append(widget)\n",
    "        widget.observe(callback, names='value')\n",
    "\n",
    "    def launch(self):\n",
    "        display(self.renderer)\n",
    "        for w in self.widgets:\n",
    "            display(w)\n"
   ]
  },
  {
   "cell_type": "code",
   "execution_count": null,
   "metadata": {},
   "outputs": [],
   "source": []
  },
  {
   "cell_type": "code",
   "execution_count": null,
   "metadata": {},
   "outputs": [],
   "source": []
  },
  {
   "cell_type": "code",
   "execution_count": null,
   "metadata": {},
   "outputs": [],
   "source": [
    "from pynput import keyboard\n",
    "\n",
    "def on_press(key):\n",
    "    try:\n",
    "        print('alphanumeric key {0} pressed'.format(\n",
    "            key.char))\n",
    "    except AttributeError:\n",
    "        print('special key {0} pressed'.format(\n",
    "            key))\n",
    "\n",
    "def on_release(key):\n",
    "    print('{0} released'.format(\n",
    "        key))\n",
    "    if key == keyboard.Key.esc:\n",
    "        # Stop listener\n",
    "        return False\n",
    "\n",
    "# Collect events until released\n",
    "with keyboard.Listener(\n",
    "        on_press=on_press,\n",
    "        on_release=on_release) as listener:\n",
    "    listener.join()"
   ]
  },
  {
   "cell_type": "code",
   "execution_count": null,
   "metadata": {},
   "outputs": [],
   "source": [
    "a"
   ]
  }
 ],
 "metadata": {
  "kernelspec": {
   "display_name": "Python 3",
   "language": "python",
   "name": "python3"
  },
  "language_info": {
   "codemirror_mode": {
    "name": "ipython",
    "version": 3
   },
   "file_extension": ".py",
   "mimetype": "text/x-python",
   "name": "python",
   "nbconvert_exporter": "python",
   "pygments_lexer": "ipython3",
   "version": "3.6.5"
  }
 },
 "nbformat": 4,
 "nbformat_minor": 2
}
